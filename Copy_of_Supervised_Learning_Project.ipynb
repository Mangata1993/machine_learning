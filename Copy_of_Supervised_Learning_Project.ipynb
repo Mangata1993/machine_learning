{
  "nbformat": 4,
  "nbformat_minor": 0,
  "metadata": {
    "colab": {
      "name": "Copy of Supervised Learning Project.ipynb",
      "provenance": [],
      "authorship_tag": "ABX9TyPJ7nerJTrNGsk2nSx5k+d1"
    },
    "kernelspec": {
      "name": "python3",
      "display_name": "Python 3"
    }
  },
  "cells": [
    {
      "cell_type": "code",
      "metadata": {
        "id": "wvfcyp0EGObW"
      },
      "source": [
        "# install pydrive to load data\n",
        "!pip install -U -q PyDrive\n",
        "\n",
        "from pydrive.auth import GoogleAuth\n",
        "from pydrive.drive import GoogleDrive\n",
        "from google.colab import auth\n",
        "from oauth2client.client import GoogleCredentials\n",
        "\n",
        "auth.authenticate_user()\n",
        "gauth = GoogleAuth()\n",
        "gauth.credentials = GoogleCredentials.get_application_default()\n",
        "drive = GoogleDrive(gauth)"
      ],
      "execution_count": null,
      "outputs": []
    },
    {
      "cell_type": "code",
      "metadata": {
        "id": "QgaFhEsLHL4Y"
      },
      "source": [
        "id = \"1eispPCMAQvWMcOF6M17LSoo06cMsnBUS\"\n",
        "file = drive.CreateFile({'id':id}) \n",
        "file.GetContentFile('bank_churn.csv') "
      ],
      "execution_count": null,
      "outputs": []
    },
    {
      "cell_type": "code",
      "metadata": {
        "id": "wKYl7NFaHRBe",
        "colab": {
          "base_uri": "https://localhost:8080/",
          "height": 204
        },
        "outputId": "8f62d083-6a79-4e51-95a2-d5cce8506031"
      },
      "source": [
        "import pandas as pd\n",
        "\n",
        "churn_df = pd.read_csv('bank_churn.csv')\n",
        "churn_df.head()"
      ],
      "execution_count": null,
      "outputs": [
        {
          "output_type": "execute_result",
          "data": {
            "text/html": [
              "<div>\n",
              "<style scoped>\n",
              "    .dataframe tbody tr th:only-of-type {\n",
              "        vertical-align: middle;\n",
              "    }\n",
              "\n",
              "    .dataframe tbody tr th {\n",
              "        vertical-align: top;\n",
              "    }\n",
              "\n",
              "    .dataframe thead th {\n",
              "        text-align: right;\n",
              "    }\n",
              "</style>\n",
              "<table border=\"1\" class=\"dataframe\">\n",
              "  <thead>\n",
              "    <tr style=\"text-align: right;\">\n",
              "      <th></th>\n",
              "      <th>RowNumber</th>\n",
              "      <th>CustomerId</th>\n",
              "      <th>Surname</th>\n",
              "      <th>CreditScore</th>\n",
              "      <th>Geography</th>\n",
              "      <th>Gender</th>\n",
              "      <th>Age</th>\n",
              "      <th>Tenure</th>\n",
              "      <th>Balance</th>\n",
              "      <th>NumOfProducts</th>\n",
              "      <th>HasCrCard</th>\n",
              "      <th>IsActiveMember</th>\n",
              "      <th>EstimatedSalary</th>\n",
              "      <th>Exited</th>\n",
              "    </tr>\n",
              "  </thead>\n",
              "  <tbody>\n",
              "    <tr>\n",
              "      <th>0</th>\n",
              "      <td>1</td>\n",
              "      <td>15634602</td>\n",
              "      <td>Hargrave</td>\n",
              "      <td>619</td>\n",
              "      <td>France</td>\n",
              "      <td>Female</td>\n",
              "      <td>42</td>\n",
              "      <td>2</td>\n",
              "      <td>0.00</td>\n",
              "      <td>1</td>\n",
              "      <td>1</td>\n",
              "      <td>1</td>\n",
              "      <td>101348.88</td>\n",
              "      <td>1</td>\n",
              "    </tr>\n",
              "    <tr>\n",
              "      <th>1</th>\n",
              "      <td>2</td>\n",
              "      <td>15647311</td>\n",
              "      <td>Hill</td>\n",
              "      <td>608</td>\n",
              "      <td>Spain</td>\n",
              "      <td>Female</td>\n",
              "      <td>41</td>\n",
              "      <td>1</td>\n",
              "      <td>83807.86</td>\n",
              "      <td>1</td>\n",
              "      <td>0</td>\n",
              "      <td>1</td>\n",
              "      <td>112542.58</td>\n",
              "      <td>0</td>\n",
              "    </tr>\n",
              "    <tr>\n",
              "      <th>2</th>\n",
              "      <td>3</td>\n",
              "      <td>15619304</td>\n",
              "      <td>Onio</td>\n",
              "      <td>502</td>\n",
              "      <td>France</td>\n",
              "      <td>Female</td>\n",
              "      <td>42</td>\n",
              "      <td>8</td>\n",
              "      <td>159660.80</td>\n",
              "      <td>3</td>\n",
              "      <td>1</td>\n",
              "      <td>0</td>\n",
              "      <td>113931.57</td>\n",
              "      <td>1</td>\n",
              "    </tr>\n",
              "    <tr>\n",
              "      <th>3</th>\n",
              "      <td>4</td>\n",
              "      <td>15701354</td>\n",
              "      <td>Boni</td>\n",
              "      <td>699</td>\n",
              "      <td>France</td>\n",
              "      <td>Female</td>\n",
              "      <td>39</td>\n",
              "      <td>1</td>\n",
              "      <td>0.00</td>\n",
              "      <td>2</td>\n",
              "      <td>0</td>\n",
              "      <td>0</td>\n",
              "      <td>93826.63</td>\n",
              "      <td>0</td>\n",
              "    </tr>\n",
              "    <tr>\n",
              "      <th>4</th>\n",
              "      <td>5</td>\n",
              "      <td>15737888</td>\n",
              "      <td>Mitchell</td>\n",
              "      <td>850</td>\n",
              "      <td>Spain</td>\n",
              "      <td>Female</td>\n",
              "      <td>43</td>\n",
              "      <td>2</td>\n",
              "      <td>125510.82</td>\n",
              "      <td>1</td>\n",
              "      <td>1</td>\n",
              "      <td>1</td>\n",
              "      <td>79084.10</td>\n",
              "      <td>0</td>\n",
              "    </tr>\n",
              "  </tbody>\n",
              "</table>\n",
              "</div>"
            ],
            "text/plain": [
              "   RowNumber  CustomerId   Surname  ...  IsActiveMember EstimatedSalary Exited\n",
              "0          1    15634602  Hargrave  ...               1       101348.88      1\n",
              "1          2    15647311      Hill  ...               1       112542.58      0\n",
              "2          3    15619304      Onio  ...               0       113931.57      1\n",
              "3          4    15701354      Boni  ...               0        93826.63      0\n",
              "4          5    15737888  Mitchell  ...               1        79084.10      0\n",
              "\n",
              "[5 rows x 14 columns]"
            ]
          },
          "metadata": {
            "tags": []
          },
          "execution_count": 4
        }
      ]
    },
    {
      "cell_type": "code",
      "metadata": {
        "id": "A9R-1rygHSWo"
      },
      "source": [
        "import pandas as pd\n",
        "import numpy as np\n"
      ],
      "execution_count": null,
      "outputs": []
    },
    {
      "cell_type": "code",
      "metadata": {
        "id": "Pwsy_o8zHSiG",
        "colab": {
          "base_uri": "https://localhost:8080/",
          "height": 374
        },
        "outputId": "a857a0d9-fc1d-4fcb-ca46-f88b080907bd"
      },
      "source": [
        "churn_df.info()"
      ],
      "execution_count": null,
      "outputs": [
        {
          "output_type": "stream",
          "text": [
            "<class 'pandas.core.frame.DataFrame'>\n",
            "RangeIndex: 10000 entries, 0 to 9999\n",
            "Data columns (total 14 columns):\n",
            " #   Column           Non-Null Count  Dtype  \n",
            "---  ------           --------------  -----  \n",
            " 0   RowNumber        10000 non-null  int64  \n",
            " 1   CustomerId       10000 non-null  int64  \n",
            " 2   Surname          10000 non-null  object \n",
            " 3   CreditScore      10000 non-null  int64  \n",
            " 4   Geography        10000 non-null  object \n",
            " 5   Gender           10000 non-null  object \n",
            " 6   Age              10000 non-null  int64  \n",
            " 7   Tenure           10000 non-null  int64  \n",
            " 8   Balance          10000 non-null  float64\n",
            " 9   NumOfProducts    10000 non-null  int64  \n",
            " 10  HasCrCard        10000 non-null  int64  \n",
            " 11  IsActiveMember   10000 non-null  int64  \n",
            " 12  EstimatedSalary  10000 non-null  float64\n",
            " 13  Exited           10000 non-null  int64  \n",
            "dtypes: float64(2), int64(9), object(3)\n",
            "memory usage: 1.1+ MB\n"
          ],
          "name": "stdout"
        }
      ]
    },
    {
      "cell_type": "code",
      "metadata": {
        "id": "IYLJPU_DHSuD",
        "colab": {
          "base_uri": "https://localhost:8080/",
          "height": 272
        },
        "outputId": "3d84179d-7e5b-43e3-d449-3461244350b7"
      },
      "source": [
        "churn_df.nunique()"
      ],
      "execution_count": null,
      "outputs": [
        {
          "output_type": "execute_result",
          "data": {
            "text/plain": [
              "RowNumber          10000\n",
              "CustomerId         10000\n",
              "Surname             2932\n",
              "CreditScore          460\n",
              "Geography              3\n",
              "Gender                 2\n",
              "Age                   70\n",
              "Tenure                11\n",
              "Balance             6382\n",
              "NumOfProducts          4\n",
              "HasCrCard              2\n",
              "IsActiveMember         2\n",
              "EstimatedSalary     9999\n",
              "Exited                 2\n",
              "dtype: int64"
            ]
          },
          "metadata": {
            "tags": []
          },
          "execution_count": 7
        }
      ]
    },
    {
      "cell_type": "code",
      "metadata": {
        "id": "Cs9-I0OdHS65"
      },
      "source": [
        "y = churn_df['Exited']"
      ],
      "execution_count": null,
      "outputs": []
    },
    {
      "cell_type": "code",
      "metadata": {
        "id": "9zsz5fVrHxCG",
        "colab": {
          "base_uri": "https://localhost:8080/",
          "height": 34
        },
        "outputId": "8eeb5f06-5a7a-4f85-c472-452ebd55adac"
      },
      "source": [
        "print(y.sum()/y.shape*100)"
      ],
      "execution_count": null,
      "outputs": [
        {
          "output_type": "stream",
          "text": [
            "[20.37]\n"
          ],
          "name": "stdout"
        }
      ]
    },
    {
      "cell_type": "code",
      "metadata": {
        "id": "aFczzas0HzSZ",
        "colab": {
          "base_uri": "https://localhost:8080/",
          "height": 272
        },
        "outputId": "069f0606-760e-46b9-b901-748962f308bd"
      },
      "source": [
        "churn_df.isnull().sum()"
      ],
      "execution_count": null,
      "outputs": [
        {
          "output_type": "execute_result",
          "data": {
            "text/plain": [
              "RowNumber          0\n",
              "CustomerId         0\n",
              "Surname            0\n",
              "CreditScore        0\n",
              "Geography          0\n",
              "Gender             0\n",
              "Age                0\n",
              "Tenure             0\n",
              "Balance            0\n",
              "NumOfProducts      0\n",
              "HasCrCard          0\n",
              "IsActiveMember     0\n",
              "EstimatedSalary    0\n",
              "Exited             0\n",
              "dtype: int64"
            ]
          },
          "metadata": {
            "tags": []
          },
          "execution_count": 10
        }
      ]
    },
    {
      "cell_type": "code",
      "metadata": {
        "id": "P8DNEpksIHt3",
        "colab": {
          "base_uri": "https://localhost:8080/",
          "height": 297
        },
        "outputId": "b22661ee-82a9-4edc-856d-43b1e710c784"
      },
      "source": [
        "churn_df[['CreditScore', 'Age', 'Tenure', 'NumOfProducts','Balance', 'EstimatedSalary']].describe()"
      ],
      "execution_count": null,
      "outputs": [
        {
          "output_type": "execute_result",
          "data": {
            "text/html": [
              "<div>\n",
              "<style scoped>\n",
              "    .dataframe tbody tr th:only-of-type {\n",
              "        vertical-align: middle;\n",
              "    }\n",
              "\n",
              "    .dataframe tbody tr th {\n",
              "        vertical-align: top;\n",
              "    }\n",
              "\n",
              "    .dataframe thead th {\n",
              "        text-align: right;\n",
              "    }\n",
              "</style>\n",
              "<table border=\"1\" class=\"dataframe\">\n",
              "  <thead>\n",
              "    <tr style=\"text-align: right;\">\n",
              "      <th></th>\n",
              "      <th>CreditScore</th>\n",
              "      <th>Age</th>\n",
              "      <th>Tenure</th>\n",
              "      <th>NumOfProducts</th>\n",
              "      <th>Balance</th>\n",
              "      <th>EstimatedSalary</th>\n",
              "    </tr>\n",
              "  </thead>\n",
              "  <tbody>\n",
              "    <tr>\n",
              "      <th>count</th>\n",
              "      <td>10000.000000</td>\n",
              "      <td>10000.000000</td>\n",
              "      <td>10000.000000</td>\n",
              "      <td>10000.000000</td>\n",
              "      <td>10000.000000</td>\n",
              "      <td>10000.000000</td>\n",
              "    </tr>\n",
              "    <tr>\n",
              "      <th>mean</th>\n",
              "      <td>650.528800</td>\n",
              "      <td>38.921800</td>\n",
              "      <td>5.012800</td>\n",
              "      <td>1.530200</td>\n",
              "      <td>76485.889288</td>\n",
              "      <td>100090.239881</td>\n",
              "    </tr>\n",
              "    <tr>\n",
              "      <th>std</th>\n",
              "      <td>96.653299</td>\n",
              "      <td>10.487806</td>\n",
              "      <td>2.892174</td>\n",
              "      <td>0.581654</td>\n",
              "      <td>62397.405202</td>\n",
              "      <td>57510.492818</td>\n",
              "    </tr>\n",
              "    <tr>\n",
              "      <th>min</th>\n",
              "      <td>350.000000</td>\n",
              "      <td>18.000000</td>\n",
              "      <td>0.000000</td>\n",
              "      <td>1.000000</td>\n",
              "      <td>0.000000</td>\n",
              "      <td>11.580000</td>\n",
              "    </tr>\n",
              "    <tr>\n",
              "      <th>25%</th>\n",
              "      <td>584.000000</td>\n",
              "      <td>32.000000</td>\n",
              "      <td>3.000000</td>\n",
              "      <td>1.000000</td>\n",
              "      <td>0.000000</td>\n",
              "      <td>51002.110000</td>\n",
              "    </tr>\n",
              "    <tr>\n",
              "      <th>50%</th>\n",
              "      <td>652.000000</td>\n",
              "      <td>37.000000</td>\n",
              "      <td>5.000000</td>\n",
              "      <td>1.000000</td>\n",
              "      <td>97198.540000</td>\n",
              "      <td>100193.915000</td>\n",
              "    </tr>\n",
              "    <tr>\n",
              "      <th>75%</th>\n",
              "      <td>718.000000</td>\n",
              "      <td>44.000000</td>\n",
              "      <td>7.000000</td>\n",
              "      <td>2.000000</td>\n",
              "      <td>127644.240000</td>\n",
              "      <td>149388.247500</td>\n",
              "    </tr>\n",
              "    <tr>\n",
              "      <th>max</th>\n",
              "      <td>850.000000</td>\n",
              "      <td>92.000000</td>\n",
              "      <td>10.000000</td>\n",
              "      <td>4.000000</td>\n",
              "      <td>250898.090000</td>\n",
              "      <td>199992.480000</td>\n",
              "    </tr>\n",
              "  </tbody>\n",
              "</table>\n",
              "</div>"
            ],
            "text/plain": [
              "        CreditScore           Age  ...        Balance  EstimatedSalary\n",
              "count  10000.000000  10000.000000  ...   10000.000000     10000.000000\n",
              "mean     650.528800     38.921800  ...   76485.889288    100090.239881\n",
              "std       96.653299     10.487806  ...   62397.405202     57510.492818\n",
              "min      350.000000     18.000000  ...       0.000000        11.580000\n",
              "25%      584.000000     32.000000  ...       0.000000     51002.110000\n",
              "50%      652.000000     37.000000  ...   97198.540000    100193.915000\n",
              "75%      718.000000     44.000000  ...  127644.240000    149388.247500\n",
              "max      850.000000     92.000000  ...  250898.090000    199992.480000\n",
              "\n",
              "[8 rows x 6 columns]"
            ]
          },
          "metadata": {
            "tags": []
          },
          "execution_count": 11
        }
      ]
    },
    {
      "cell_type": "code",
      "metadata": {
        "id": "1hdVcl77INQb",
        "colab": {
          "base_uri": "https://localhost:8080/",
          "height": 71
        },
        "outputId": "b08a8c08-0094-4698-9ff4-744c9eb8e86d"
      },
      "source": [
        "import matplotlib.pyplot as plt\n",
        "import seaborn as sns"
      ],
      "execution_count": null,
      "outputs": [
        {
          "output_type": "stream",
          "text": [
            "/usr/local/lib/python3.6/dist-packages/statsmodels/tools/_testing.py:19: FutureWarning: pandas.util.testing is deprecated. Use the functions in the public API at pandas.testing instead.\n",
            "  import pandas.util.testing as tm\n"
          ],
          "name": "stderr"
        }
      ]
    },
    {
      "cell_type": "code",
      "metadata": {
        "id": "HvAkOF31IdD3",
        "colab": {
          "base_uri": "https://localhost:8080/",
          "height": 623
        },
        "outputId": "ec8b3447-a3f1-44b1-d5cd-f09057bce6aa"
      },
      "source": [
        "_,axss = plt.subplots(2,3,figsize=[20,10])\n",
        "sns.boxplot(x='Exited', y='CreditScore', data=churn_df, ax=axss[0][0])\n",
        "sns.boxplot(x='Exited', y ='Age', data=churn_df, ax=axss[0][1])\n",
        "sns.boxplot(x='Exited', y ='Tenure', data=churn_df, ax=axss[0][2])\n",
        "sns.boxplot(x='Exited', y ='NumOfProducts', data=churn_df, ax=axss[1][0])\n",
        "sns.boxplot(x='Exited', y ='Balance', data=churn_df, ax=axss[1][1])\n",
        "sns.boxplot(x='Exited', y ='EstimatedSalary', data=churn_df, ax=axss[1][2])"
      ],
      "execution_count": null,
      "outputs": [
        {
          "output_type": "execute_result",
          "data": {
            "text/plain": [
              "<matplotlib.axes._subplots.AxesSubplot at 0x7f61bf41d198>"
            ]
          },
          "metadata": {
            "tags": []
          },
          "execution_count": 13
        },
        {
          "output_type": "display_data",
          "data": {
            "image/png": "[encoded data removed]",
            "text/plain": [
              "<Figure size 1440x720 with 6 Axes>"
            ]
          },
          "metadata": {
            "tags": [],
            "needs_background": "light"
          }
        }
      ]
    },
    {
      "cell_type": "code",
      "metadata": {
        "id": "REoST9CkIxeV",
        "colab": {
          "base_uri": "https://localhost:8080/",
          "height": 623
        },
        "outputId": "c7abd167-ba0e-41c4-ba95-e9b0ab2e1152"
      },
      "source": [
        "# understand categorical feature\n",
        "# 'Geography', 'Gender'\n",
        "# 'HasCrCard', 'IsActiveMember'\n",
        "_,axss = plt.subplots(2,2, figsize=[20,10])\n",
        "sns.countplot(x='Exited', hue='Geography',data=churn_df, ax=axss[0][0])\n",
        "sns.countplot(x='Exited',hue='Gender', data=churn_df, ax=axss[0][1])\n",
        "sns.countplot(x='Exited', hue='HasCrCard', data=churn_df, ax=axss[1][0])\n",
        "sns.countplot(x='Exited', hue='IsActiveMember', data=churn_df, ax=axss[1][1])"
      ],
      "execution_count": null,
      "outputs": [
        {
          "output_type": "execute_result",
          "data": {
            "text/plain": [
              "<matplotlib.axes._subplots.AxesSubplot at 0x7f61bece4dd8>"
            ]
          },
          "metadata": {
            "tags": []
          },
          "execution_count": 14
        },
        {
          "output_type": "display_data",
          "data": {
            "image/png": "[encoded data removed]",
            "text/plain": [
              "<Figure size 1440x720 with 4 Axes>"
            ]
          },
          "metadata": {
            "tags": [],
            "needs_background": "light"
          }
        }
      ]
    },
    {
      "cell_type": "code",
      "metadata": {
        "id": "rRF5rHu4JSTq",
        "colab": {
          "base_uri": "https://localhost:8080/",
          "height": 358
        },
        "outputId": "ef64c7d9-c1c1-4a0f-b5da-3a09711095ec"
      },
      "source": [
        "corr_score=churn_df[['CreditScore', 'Age', 'Tenure', 'NumOfProducts','Balance', 'EstimatedSalary']].corr()\n",
        "sns.heatmap(churn_df[['CreditScore', 'Age', 'Tenure', 'NumOfProducts','Balance', 'EstimatedSalary']].corr())"
      ],
      "execution_count": null,
      "outputs": [
        {
          "output_type": "execute_result",
          "data": {
            "text/plain": [
              "<matplotlib.axes._subplots.AxesSubplot at 0x7f61bed75630>"
            ]
          },
          "metadata": {
            "tags": []
          },
          "execution_count": 15
        },
        {
          "output_type": "display_data",
          "data": {
            "image/png": "[encoded data removed]",
            "text/plain": [
              "<Figure size 432x288 with 2 Axes>"
            ]
          },
          "metadata": {
            "tags": [],
            "needs_background": "light"
          }
        }
      ]
    },
    {
      "cell_type": "code",
      "metadata": {
        "id": "a-bJi-VNMkB9",
        "colab": {
          "base_uri": "https://localhost:8080/",
          "height": 235
        },
        "outputId": "34665965-c8f1-4261-a2ac-78c234cf1fcd"
      },
      "source": [
        "corr_score"
      ],
      "execution_count": null,
      "outputs": [
        {
          "output_type": "execute_result",
          "data": {
            "text/html": [
              "<div>\n",
              "<style scoped>\n",
              "    .dataframe tbody tr th:only-of-type {\n",
              "        vertical-align: middle;\n",
              "    }\n",
              "\n",
              "    .dataframe tbody tr th {\n",
              "        vertical-align: top;\n",
              "    }\n",
              "\n",
              "    .dataframe thead th {\n",
              "        text-align: right;\n",
              "    }\n",
              "</style>\n",
              "<table border=\"1\" class=\"dataframe\">\n",
              "  <thead>\n",
              "    <tr style=\"text-align: right;\">\n",
              "      <th></th>\n",
              "      <th>CreditScore</th>\n",
              "      <th>Age</th>\n",
              "      <th>Tenure</th>\n",
              "      <th>NumOfProducts</th>\n",
              "      <th>Balance</th>\n",
              "      <th>EstimatedSalary</th>\n",
              "    </tr>\n",
              "  </thead>\n",
              "  <tbody>\n",
              "    <tr>\n",
              "      <th>CreditScore</th>\n",
              "      <td>1.000000</td>\n",
              "      <td>-0.003965</td>\n",
              "      <td>0.000842</td>\n",
              "      <td>0.012238</td>\n",
              "      <td>0.006268</td>\n",
              "      <td>-0.001384</td>\n",
              "    </tr>\n",
              "    <tr>\n",
              "      <th>Age</th>\n",
              "      <td>-0.003965</td>\n",
              "      <td>1.000000</td>\n",
              "      <td>-0.009997</td>\n",
              "      <td>-0.030680</td>\n",
              "      <td>0.028308</td>\n",
              "      <td>-0.007201</td>\n",
              "    </tr>\n",
              "    <tr>\n",
              "      <th>Tenure</th>\n",
              "      <td>0.000842</td>\n",
              "      <td>-0.009997</td>\n",
              "      <td>1.000000</td>\n",
              "      <td>0.013444</td>\n",
              "      <td>-0.012254</td>\n",
              "      <td>0.007784</td>\n",
              "    </tr>\n",
              "    <tr>\n",
              "      <th>NumOfProducts</th>\n",
              "      <td>0.012238</td>\n",
              "      <td>-0.030680</td>\n",
              "      <td>0.013444</td>\n",
              "      <td>1.000000</td>\n",
              "      <td>-0.304180</td>\n",
              "      <td>0.014204</td>\n",
              "    </tr>\n",
              "    <tr>\n",
              "      <th>Balance</th>\n",
              "      <td>0.006268</td>\n",
              "      <td>0.028308</td>\n",
              "      <td>-0.012254</td>\n",
              "      <td>-0.304180</td>\n",
              "      <td>1.000000</td>\n",
              "      <td>0.012797</td>\n",
              "    </tr>\n",
              "    <tr>\n",
              "      <th>EstimatedSalary</th>\n",
              "      <td>-0.001384</td>\n",
              "      <td>-0.007201</td>\n",
              "      <td>0.007784</td>\n",
              "      <td>0.014204</td>\n",
              "      <td>0.012797</td>\n",
              "      <td>1.000000</td>\n",
              "    </tr>\n",
              "  </tbody>\n",
              "</table>\n",
              "</div>"
            ],
            "text/plain": [
              "                 CreditScore       Age  ...   Balance  EstimatedSalary\n",
              "CreditScore         1.000000 -0.003965  ...  0.006268        -0.001384\n",
              "Age                -0.003965  1.000000  ...  0.028308        -0.007201\n",
              "Tenure              0.000842 -0.009997  ... -0.012254         0.007784\n",
              "NumOfProducts       0.012238 -0.030680  ... -0.304180         0.014204\n",
              "Balance             0.006268  0.028308  ...  1.000000         0.012797\n",
              "EstimatedSalary    -0.001384 -0.007201  ...  0.012797         1.000000\n",
              "\n",
              "[6 rows x 6 columns]"
            ]
          },
          "metadata": {
            "tags": []
          },
          "execution_count": 16
        }
      ]
    },
    {
      "cell_type": "code",
      "metadata": {
        "id": "Jk7IFW7ENECJ"
      },
      "source": [
        "churn_df['Gender'] = churn_df['Gender'] =='Female'"
      ],
      "execution_count": null,
      "outputs": []
    },
    {
      "cell_type": "code",
      "metadata": {
        "id": "TFrQCx2vNVvY"
      },
      "source": [
        "churn_df = pd.get_dummies(churn_df, columns=['Geography'])"
      ],
      "execution_count": null,
      "outputs": []
    },
    {
      "cell_type": "code",
      "metadata": {
        "id": "I2miYBn8NgPO",
        "colab": {
          "base_uri": "https://localhost:8080/",
          "height": 224
        },
        "outputId": "83e1a703-d7b4-4bac-d8ea-6ea1db60c646"
      },
      "source": [
        "churn_df.head()"
      ],
      "execution_count": null,
      "outputs": [
        {
          "output_type": "execute_result",
          "data": {
            "text/html": [
              "<div>\n",
              "<style scoped>\n",
              "    .dataframe tbody tr th:only-of-type {\n",
              "        vertical-align: middle;\n",
              "    }\n",
              "\n",
              "    .dataframe tbody tr th {\n",
              "        vertical-align: top;\n",
              "    }\n",
              "\n",
              "    .dataframe thead th {\n",
              "        text-align: right;\n",
              "    }\n",
              "</style>\n",
              "<table border=\"1\" class=\"dataframe\">\n",
              "  <thead>\n",
              "    <tr style=\"text-align: right;\">\n",
              "      <th></th>\n",
              "      <th>RowNumber</th>\n",
              "      <th>CustomerId</th>\n",
              "      <th>Surname</th>\n",
              "      <th>CreditScore</th>\n",
              "      <th>Gender</th>\n",
              "      <th>Age</th>\n",
              "      <th>Tenure</th>\n",
              "      <th>Balance</th>\n",
              "      <th>NumOfProducts</th>\n",
              "      <th>HasCrCard</th>\n",
              "      <th>IsActiveMember</th>\n",
              "      <th>EstimatedSalary</th>\n",
              "      <th>Exited</th>\n",
              "      <th>Geography_France</th>\n",
              "      <th>Geography_Germany</th>\n",
              "      <th>Geography_Spain</th>\n",
              "    </tr>\n",
              "  </thead>\n",
              "  <tbody>\n",
              "    <tr>\n",
              "      <th>0</th>\n",
              "      <td>1</td>\n",
              "      <td>15634602</td>\n",
              "      <td>Hargrave</td>\n",
              "      <td>619</td>\n",
              "      <td>True</td>\n",
              "      <td>42</td>\n",
              "      <td>2</td>\n",
              "      <td>0.00</td>\n",
              "      <td>1</td>\n",
              "      <td>1</td>\n",
              "      <td>1</td>\n",
              "      <td>101348.88</td>\n",
              "      <td>1</td>\n",
              "      <td>1</td>\n",
              "      <td>0</td>\n",
              "      <td>0</td>\n",
              "    </tr>\n",
              "    <tr>\n",
              "      <th>1</th>\n",
              "      <td>2</td>\n",
              "      <td>15647311</td>\n",
              "      <td>Hill</td>\n",
              "      <td>608</td>\n",
              "      <td>True</td>\n",
              "      <td>41</td>\n",
              "      <td>1</td>\n",
              "      <td>83807.86</td>\n",
              "      <td>1</td>\n",
              "      <td>0</td>\n",
              "      <td>1</td>\n",
              "      <td>112542.58</td>\n",
              "      <td>0</td>\n",
              "      <td>0</td>\n",
              "      <td>0</td>\n",
              "      <td>1</td>\n",
              "    </tr>\n",
              "    <tr>\n",
              "      <th>2</th>\n",
              "      <td>3</td>\n",
              "      <td>15619304</td>\n",
              "      <td>Onio</td>\n",
              "      <td>502</td>\n",
              "      <td>True</td>\n",
              "      <td>42</td>\n",
              "      <td>8</td>\n",
              "      <td>159660.80</td>\n",
              "      <td>3</td>\n",
              "      <td>1</td>\n",
              "      <td>0</td>\n",
              "      <td>113931.57</td>\n",
              "      <td>1</td>\n",
              "      <td>1</td>\n",
              "      <td>0</td>\n",
              "      <td>0</td>\n",
              "    </tr>\n",
              "    <tr>\n",
              "      <th>3</th>\n",
              "      <td>4</td>\n",
              "      <td>15701354</td>\n",
              "      <td>Boni</td>\n",
              "      <td>699</td>\n",
              "      <td>True</td>\n",
              "      <td>39</td>\n",
              "      <td>1</td>\n",
              "      <td>0.00</td>\n",
              "      <td>2</td>\n",
              "      <td>0</td>\n",
              "      <td>0</td>\n",
              "      <td>93826.63</td>\n",
              "      <td>0</td>\n",
              "      <td>1</td>\n",
              "      <td>0</td>\n",
              "      <td>0</td>\n",
              "    </tr>\n",
              "    <tr>\n",
              "      <th>4</th>\n",
              "      <td>5</td>\n",
              "      <td>15737888</td>\n",
              "      <td>Mitchell</td>\n",
              "      <td>850</td>\n",
              "      <td>True</td>\n",
              "      <td>43</td>\n",
              "      <td>2</td>\n",
              "      <td>125510.82</td>\n",
              "      <td>1</td>\n",
              "      <td>1</td>\n",
              "      <td>1</td>\n",
              "      <td>79084.10</td>\n",
              "      <td>0</td>\n",
              "      <td>0</td>\n",
              "      <td>0</td>\n",
              "      <td>1</td>\n",
              "    </tr>\n",
              "  </tbody>\n",
              "</table>\n",
              "</div>"
            ],
            "text/plain": [
              "   RowNumber  CustomerId  ... Geography_Germany  Geography_Spain\n",
              "0          1    15634602  ...                 0                0\n",
              "1          2    15647311  ...                 0                1\n",
              "2          3    15619304  ...                 0                0\n",
              "3          4    15701354  ...                 0                0\n",
              "4          5    15737888  ...                 0                1\n",
              "\n",
              "[5 rows x 16 columns]"
            ]
          },
          "metadata": {
            "tags": []
          },
          "execution_count": 19
        }
      ]
    },
    {
      "cell_type": "code",
      "metadata": {
        "id": "PYC2dzZdNidm"
      },
      "source": [
        "to_drop = ['RowNumber','CustomerId','Surname','Exited']\n",
        "X = churn_df.drop(to_drop, axis=1)"
      ],
      "execution_count": null,
      "outputs": []
    },
    {
      "cell_type": "code",
      "metadata": {
        "id": "99PuMlsfhmzl",
        "colab": {
          "base_uri": "https://localhost:8080/",
          "height": 204
        },
        "outputId": "e70bab40-2dca-4aeb-cf02-2b7200ca917a"
      },
      "source": [
        "X.head()"
      ],
      "execution_count": null,
      "outputs": [
        {
          "output_type": "execute_result",
          "data": {
            "text/html": [
              "<div>\n",
              "<style scoped>\n",
              "    .dataframe tbody tr th:only-of-type {\n",
              "        vertical-align: middle;\n",
              "    }\n",
              "\n",
              "    .dataframe tbody tr th {\n",
              "        vertical-align: top;\n",
              "    }\n",
              "\n",
              "    .dataframe thead th {\n",
              "        text-align: right;\n",
              "    }\n",
              "</style>\n",
              "<table border=\"1\" class=\"dataframe\">\n",
              "  <thead>\n",
              "    <tr style=\"text-align: right;\">\n",
              "      <th></th>\n",
              "      <th>CreditScore</th>\n",
              "      <th>Gender</th>\n",
              "      <th>Age</th>\n",
              "      <th>Tenure</th>\n",
              "      <th>Balance</th>\n",
              "      <th>NumOfProducts</th>\n",
              "      <th>HasCrCard</th>\n",
              "      <th>IsActiveMember</th>\n",
              "      <th>EstimatedSalary</th>\n",
              "      <th>Geography_France</th>\n",
              "      <th>Geography_Germany</th>\n",
              "      <th>Geography_Spain</th>\n",
              "    </tr>\n",
              "  </thead>\n",
              "  <tbody>\n",
              "    <tr>\n",
              "      <th>0</th>\n",
              "      <td>619</td>\n",
              "      <td>True</td>\n",
              "      <td>42</td>\n",
              "      <td>2</td>\n",
              "      <td>0.00</td>\n",
              "      <td>1</td>\n",
              "      <td>1</td>\n",
              "      <td>1</td>\n",
              "      <td>101348.88</td>\n",
              "      <td>1</td>\n",
              "      <td>0</td>\n",
              "      <td>0</td>\n",
              "    </tr>\n",
              "    <tr>\n",
              "      <th>1</th>\n",
              "      <td>608</td>\n",
              "      <td>True</td>\n",
              "      <td>41</td>\n",
              "      <td>1</td>\n",
              "      <td>83807.86</td>\n",
              "      <td>1</td>\n",
              "      <td>0</td>\n",
              "      <td>1</td>\n",
              "      <td>112542.58</td>\n",
              "      <td>0</td>\n",
              "      <td>0</td>\n",
              "      <td>1</td>\n",
              "    </tr>\n",
              "    <tr>\n",
              "      <th>2</th>\n",
              "      <td>502</td>\n",
              "      <td>True</td>\n",
              "      <td>42</td>\n",
              "      <td>8</td>\n",
              "      <td>159660.80</td>\n",
              "      <td>3</td>\n",
              "      <td>1</td>\n",
              "      <td>0</td>\n",
              "      <td>113931.57</td>\n",
              "      <td>1</td>\n",
              "      <td>0</td>\n",
              "      <td>0</td>\n",
              "    </tr>\n",
              "    <tr>\n",
              "      <th>3</th>\n",
              "      <td>699</td>\n",
              "      <td>True</td>\n",
              "      <td>39</td>\n",
              "      <td>1</td>\n",
              "      <td>0.00</td>\n",
              "      <td>2</td>\n",
              "      <td>0</td>\n",
              "      <td>0</td>\n",
              "      <td>93826.63</td>\n",
              "      <td>1</td>\n",
              "      <td>0</td>\n",
              "      <td>0</td>\n",
              "    </tr>\n",
              "    <tr>\n",
              "      <th>4</th>\n",
              "      <td>850</td>\n",
              "      <td>True</td>\n",
              "      <td>43</td>\n",
              "      <td>2</td>\n",
              "      <td>125510.82</td>\n",
              "      <td>1</td>\n",
              "      <td>1</td>\n",
              "      <td>1</td>\n",
              "      <td>79084.10</td>\n",
              "      <td>0</td>\n",
              "      <td>0</td>\n",
              "      <td>1</td>\n",
              "    </tr>\n",
              "  </tbody>\n",
              "</table>\n",
              "</div>"
            ],
            "text/plain": [
              "   CreditScore  Gender  ...  Geography_Germany  Geography_Spain\n",
              "0          619    True  ...                  0                0\n",
              "1          608    True  ...                  0                1\n",
              "2          502    True  ...                  0                0\n",
              "3          699    True  ...                  0                0\n",
              "4          850    True  ...                  0                1\n",
              "\n",
              "[5 rows x 12 columns]"
            ]
          },
          "metadata": {
            "tags": []
          },
          "execution_count": 21
        }
      ]
    },
    {
      "cell_type": "code",
      "metadata": {
        "id": "o9GY7Gq7iDf7",
        "colab": {
          "base_uri": "https://localhost:8080/",
          "height": 51
        },
        "outputId": "60a1466e-1d30-4ffe-f5e3-fb45517caada"
      },
      "source": [
        "from sklearn import model_selection\n",
        "X_train, X_test, y_train, y_test = model_selection.train_test_split(X,y,test_size = 0.25, stratify = y, random_state=1)\n",
        "print('training data has '+str(X_train.shape[0])+' observation with '+str(X_train.shape[1]) + ' features')\n",
        "print('test data has '+str(X_test.shape[0])+' observation with '+str(X_test.shape[1]) + ' features')"
      ],
      "execution_count": null,
      "outputs": [
        {
          "output_type": "stream",
          "text": [
            "training data has 7500 observation with 12 features\n",
            "test data has 2500 observation with 12 features\n"
          ],
          "name": "stdout"
        }
      ]
    },
    {
      "cell_type": "code",
      "metadata": {
        "id": "YR2WMMegZD7q",
        "colab": {
          "base_uri": "https://localhost:8080/",
          "height": 238
        },
        "outputId": "71ce79b0-377d-49fe-ac74-de7ceecdbecc"
      },
      "source": [
        "from sklearn.preprocessing import StandardScaler\n",
        "scaler = StandardScaler()\n",
        "scaler.fit(X_train)\n",
        "X_train = scaler.transform(X_train)\n",
        "X_test = scaler.transform(X_test)\n",
        "X_train"
      ],
      "execution_count": null,
      "outputs": [
        {
          "output_type": "execute_result",
          "data": {
            "text/plain": [
              "array([[-0.17298471, -0.91333963,  0.28920217, ..., -0.99973337,\n",
              "        -0.57755555,  1.73205081],\n",
              "       [ 0.60240695,  1.09488296, -1.50931877, ..., -0.99973337,\n",
              "         1.73143519, -0.57735027],\n",
              "       [-1.05176192,  1.09488296, -0.18409282, ...,  1.0002667 ,\n",
              "        -0.57755555, -0.57735027],\n",
              "       ...,\n",
              "       [-0.49347993, -0.91333963, -0.46806981, ..., -0.99973337,\n",
              "        -0.57755555,  1.73205081],\n",
              "       [ 2.07048181, -0.91333963,  0.09988417, ...,  1.0002667 ,\n",
              "        -0.57755555, -0.57735027],\n",
              "       [ 0.78850094, -0.91333963, -1.03602379, ...,  1.0002667 ,\n",
              "        -0.57755555, -0.57735027]])"
            ]
          },
          "metadata": {
            "tags": []
          },
          "execution_count": 23
        }
      ]
    },
    {
      "cell_type": "code",
      "metadata": {
        "id": "xEOEOd09dbHY"
      },
      "source": [
        "from sklearn.ensemble import RandomForestClassifier\n",
        "from sklearn.neighbors import KNeighborsClassifier\n",
        "from sklearn.linear_model import LogisticRegression\n",
        "\n",
        "classifier_logistic = LogisticRegression()\n",
        "classifier_KNN = KNeighborsClassifier()\n",
        "classifier_RF = RandomForestClassifier()"
      ],
      "execution_count": null,
      "outputs": []
    },
    {
      "cell_type": "code",
      "metadata": {
        "id": "d1bYO_5HenVs",
        "colab": {
          "base_uri": "https://localhost:8080/",
          "height": 102
        },
        "outputId": "c7caebb5-074b-452a-bd72-0ab3e6e5efd4"
      },
      "source": [
        "classifier_logistic.fit(X_train, y_train)"
      ],
      "execution_count": null,
      "outputs": [
        {
          "output_type": "execute_result",
          "data": {
            "text/plain": [
              "LogisticRegression(C=1.0, class_weight=None, dual=False, fit_intercept=True,\n",
              "                   intercept_scaling=1, l1_ratio=None, max_iter=100,\n",
              "                   multi_class='auto', n_jobs=None, penalty='l2',\n",
              "                   random_state=None, solver='lbfgs', tol=0.0001, verbose=0,\n",
              "                   warm_start=False)"
            ]
          },
          "metadata": {
            "tags": []
          },
          "execution_count": 25
        }
      ]
    },
    {
      "cell_type": "code",
      "metadata": {
        "id": "E5-oO1-mexqq",
        "colab": {
          "base_uri": "https://localhost:8080/",
          "height": 34
        },
        "outputId": "75667ff8-e773-42f9-bfe0-6d188e899cea"
      },
      "source": [
        "classifier_logistic.predict(X_test)"
      ],
      "execution_count": null,
      "outputs": [
        {
          "output_type": "execute_result",
          "data": {
            "text/plain": [
              "array([0, 0, 0, ..., 0, 0, 0])"
            ]
          },
          "metadata": {
            "tags": []
          },
          "execution_count": 26
        }
      ]
    },
    {
      "cell_type": "code",
      "metadata": {
        "id": "kVaADH-8e5K5",
        "colab": {
          "base_uri": "https://localhost:8080/",
          "height": 34
        },
        "outputId": "9207c2cd-f11e-4bea-8108-277387c2f4a3"
      },
      "source": [
        "classifier_logistic.score(X_test, y_test)"
      ],
      "execution_count": null,
      "outputs": [
        {
          "output_type": "execute_result",
          "data": {
            "text/plain": [
              "0.808"
            ]
          },
          "metadata": {
            "tags": []
          },
          "execution_count": 27
        }
      ]
    },
    {
      "cell_type": "code",
      "metadata": {
        "id": "y7aA4SVFe-SZ",
        "colab": {
          "base_uri": "https://localhost:8080/",
          "height": 119
        },
        "outputId": "c424d8eb-4809-4b23-9129-e547fc8cd194"
      },
      "source": [
        "model_names = ['Logistic Regression', 'KNN', 'Random Forest']\n",
        "model_list = [classifier_logistic, classifier_KNN, classifier_RF]\n",
        "count = 0\n",
        "\n",
        "for classifier in model_list:\n",
        "  cv_score = model_selection.cross_val_score(classifier, X_train, y_train, cv=5)\n",
        "  print(cv_score)\n",
        "  print('Model accuracy of ' + model_names[count] + ' is ' +str(cv_score.mean()))\n",
        "  count += 1"
      ],
      "execution_count": null,
      "outputs": [
        {
          "output_type": "stream",
          "text": [
            "[0.81933333 0.80666667 0.80666667 0.80933333 0.82      ]\n",
            "Model accuracy of Logistic Regression is 0.8124\n",
            "[0.82533333 0.836      0.814      0.824      0.832     ]\n",
            "Model accuracy of KNN is 0.8262666666666666\n",
            "[0.882      0.86533333 0.858      0.85933333 0.86333333]\n",
            "Model accuracy of Random Forest is 0.8655999999999999\n"
          ],
          "name": "stdout"
        }
      ]
    },
    {
      "cell_type": "code",
      "metadata": {
        "id": "gOqLxMYSfel_"
      },
      "source": [
        "from sklearn.model_selection import GridSearchCV\n",
        "\n",
        "def print_grid_search_metrics(gs):\n",
        "  print('Best score: ' + str(gs.best_score_))\n",
        "  print('Best parameters set:')\n",
        "  best_parameters = gs.best_params_\n",
        "  for param_name in sorted(best_parameters.keys()):\n",
        "    print(param_name+':'+str(best_parameters[param_name]))"
      ],
      "execution_count": null,
      "outputs": []
    },
    {
      "cell_type": "code",
      "metadata": {
        "id": "zUF8nTLZg3JW",
        "colab": {
          "base_uri": "https://localhost:8080/",
          "height": 238
        },
        "outputId": "264c1df8-6625-440f-bc76-20c4793b6a02"
      },
      "source": [
        "parameters={\n",
        "    'penalty':('l1','l2'),\n",
        "    'C':(0.01, 1,5, 10)\n",
        "}\n",
        "Grid_LR = GridSearchCV(LogisticRegression(solver='liblinear'),parameters, cv=5)\n",
        "Grid_LR.fit(X_train, y_train)"
      ],
      "execution_count": null,
      "outputs": [
        {
          "output_type": "execute_result",
          "data": {
            "text/plain": [
              "GridSearchCV(cv=5, error_score=nan,\n",
              "             estimator=LogisticRegression(C=1.0, class_weight=None, dual=False,\n",
              "                                          fit_intercept=True,\n",
              "                                          intercept_scaling=1, l1_ratio=None,\n",
              "                                          max_iter=100, multi_class='auto',\n",
              "                                          n_jobs=None, penalty='l2',\n",
              "                                          random_state=None, solver='liblinear',\n",
              "                                          tol=0.0001, verbose=0,\n",
              "                                          warm_start=False),\n",
              "             iid='deprecated', n_jobs=None,\n",
              "             param_grid={'C': (0.01, 1, 5, 10), 'penalty': ('l1', 'l2')},\n",
              "             pre_dispatch='2*n_jobs', refit=True, return_train_score=False,\n",
              "             scoring=None, verbose=0)"
            ]
          },
          "metadata": {
            "tags": []
          },
          "execution_count": 30
        }
      ]
    },
    {
      "cell_type": "code",
      "metadata": {
        "id": "Mv6wRRS7ntK3",
        "colab": {
          "base_uri": "https://localhost:8080/",
          "height": 85
        },
        "outputId": "4922bde2-5844-4297-f5a1-4c1d0dd11141"
      },
      "source": [
        "print_grid_search_metrics(Grid_LR)"
      ],
      "execution_count": null,
      "outputs": [
        {
          "output_type": "stream",
          "text": [
            "Best score: 0.8124\n",
            "Best parameters set:\n",
            "C:1\n",
            "penalty:l2\n"
          ],
          "name": "stdout"
        }
      ]
    },
    {
      "cell_type": "code",
      "metadata": {
        "id": "Kkwk_tagCg0c"
      },
      "source": [
        "best_LR_model = Grid_LR.best_estimator_"
      ],
      "execution_count": null,
      "outputs": []
    },
    {
      "cell_type": "code",
      "metadata": {
        "id": "E48bt6HYCpzc",
        "colab": {
          "base_uri": "https://localhost:8080/",
          "height": 187
        },
        "outputId": "a527e5ee-3124-4d42-a991-fa7650e3b1d6"
      },
      "source": [
        "parameters = {\n",
        "    'n_neighbors':[1,3,5,7,9]\n",
        "}\n",
        "Grid_KNN = GridSearchCV(KNeighborsClassifier(), parameters, cv=5)\n",
        "Grid_KNN.fit(X_train, y_train)"
      ],
      "execution_count": null,
      "outputs": [
        {
          "output_type": "execute_result",
          "data": {
            "text/plain": [
              "GridSearchCV(cv=5, error_score=nan,\n",
              "             estimator=KNeighborsClassifier(algorithm='auto', leaf_size=30,\n",
              "                                            metric='minkowski',\n",
              "                                            metric_params=None, n_jobs=None,\n",
              "                                            n_neighbors=5, p=2,\n",
              "                                            weights='uniform'),\n",
              "             iid='deprecated', n_jobs=None,\n",
              "             param_grid={'n_neighbors': [1, 3, 5, 7, 9]},\n",
              "             pre_dispatch='2*n_jobs', refit=True, return_train_score=False,\n",
              "             scoring=None, verbose=0)"
            ]
          },
          "metadata": {
            "tags": []
          },
          "execution_count": 33
        }
      ]
    },
    {
      "cell_type": "code",
      "metadata": {
        "id": "WWQzFhkBDDkj",
        "colab": {
          "base_uri": "https://localhost:8080/",
          "height": 68
        },
        "outputId": "64d80dfb-5a29-4f27-82a3-976d2bade75e"
      },
      "source": [
        "print_grid_search_metrics(Grid_KNN)\n",
        "best_KNN_model = Grid_KNN.best_estimator_"
      ],
      "execution_count": null,
      "outputs": [
        {
          "output_type": "stream",
          "text": [
            "Best score: 0.8322666666666667\n",
            "Best parameters set:\n",
            "n_neighbors:9\n"
          ],
          "name": "stdout"
        }
      ]
    },
    {
      "cell_type": "code",
      "metadata": {
        "id": "msgOrxowHG9E",
        "colab": {
          "base_uri": "https://localhost:8080/",
          "height": 340
        },
        "outputId": "00ecc0d2-04ad-4b23-84f1-6a5eecbfb302"
      },
      "source": [
        "parameters = {\n",
        "    'n_estimators' : [40,60,80]\n",
        "}\n",
        "Grid_RF = GridSearchCV(RandomForestClassifier(), parameters, cv=5)\n",
        "Grid_RF.fit(X_train, y_train)"
      ],
      "execution_count": null,
      "outputs": [
        {
          "output_type": "execute_result",
          "data": {
            "text/plain": [
              "GridSearchCV(cv=5, error_score=nan,\n",
              "             estimator=RandomForestClassifier(bootstrap=True, ccp_alpha=0.0,\n",
              "                                              class_weight=None,\n",
              "                                              criterion='gini', max_depth=None,\n",
              "                                              max_features='auto',\n",
              "                                              max_leaf_nodes=None,\n",
              "                                              max_samples=None,\n",
              "                                              min_impurity_decrease=0.0,\n",
              "                                              min_impurity_split=None,\n",
              "                                              min_samples_leaf=1,\n",
              "                                              min_samples_split=2,\n",
              "                                              min_weight_fraction_leaf=0.0,\n",
              "                                              n_estimators=100, n_jobs=None,\n",
              "                                              oob_score=False,\n",
              "                                              random_state=None, verbose=0,\n",
              "                                              warm_start=False),\n",
              "             iid='deprecated', n_jobs=None,\n",
              "             param_grid={'n_estimators': [40, 60, 80]}, pre_dispatch='2*n_jobs',\n",
              "             refit=True, return_train_score=False, scoring=None, verbose=0)"
            ]
          },
          "metadata": {
            "tags": []
          },
          "execution_count": 35
        }
      ]
    },
    {
      "cell_type": "code",
      "metadata": {
        "id": "kjMM9Vl-HvQd",
        "colab": {
          "base_uri": "https://localhost:8080/",
          "height": 68
        },
        "outputId": "2812583a-fb9d-457e-bf30-bf8939e57ef6"
      },
      "source": [
        "print_grid_search_metrics(Grid_RF)\n",
        "best_RF_model = Grid_RF.best_estimator_"
      ],
      "execution_count": null,
      "outputs": [
        {
          "output_type": "stream",
          "text": [
            "Best score: 0.8637333333333335\n",
            "Best parameters set:\n",
            "n_estimators:60\n"
          ],
          "name": "stdout"
        }
      ]
    },
    {
      "cell_type": "code",
      "metadata": {
        "id": "LvPIkVX3H69z",
        "colab": {
          "base_uri": "https://localhost:8080/",
          "height": 153
        },
        "outputId": "8a39e4b4-969c-46ce-bf53-56ae5a45529d"
      },
      "source": [
        "best_RF_model"
      ],
      "execution_count": null,
      "outputs": [
        {
          "output_type": "execute_result",
          "data": {
            "text/plain": [
              "RandomForestClassifier(bootstrap=True, ccp_alpha=0.0, class_weight=None,\n",
              "                       criterion='gini', max_depth=None, max_features='auto',\n",
              "                       max_leaf_nodes=None, max_samples=None,\n",
              "                       min_impurity_decrease=0.0, min_impurity_split=None,\n",
              "                       min_samples_leaf=1, min_samples_split=2,\n",
              "                       min_weight_fraction_leaf=0.0, n_estimators=60,\n",
              "                       n_jobs=None, oob_score=False, random_state=None,\n",
              "                       verbose=0, warm_start=False)"
            ]
          },
          "metadata": {
            "tags": []
          },
          "execution_count": 37
        }
      ]
    },
    {
      "cell_type": "code",
      "metadata": {
        "id": "tbrjzh2VIDLx"
      },
      "source": [
        "from sklearn.metrics import confusion_matrix\n",
        "from sklearn.metrics import classification_report\n",
        "from sklearn.metrics import precision_score\n",
        "from sklearn.metrics import recall_score\n",
        "\n",
        "def cal_evaluation(classifier, cm):\n",
        "  tn = cm[0][0]\n",
        "  fp = cm[0][1]\n",
        "  fn = cm[1][0]\n",
        "  tp = cm[1][1]\n",
        "  accuracy = (tp+tn)/(tp+fp+fn+tn+0.0)\n",
        "  precision = tp/(tp+fp+0.0)\n",
        "  recall = tp/(tp+fn+0.0)\n",
        "\n",
        "  print(classifier)\n",
        "  print('Accuracy is: ' + str(accuracy))\n",
        "  print('precision is: ' + str(precision))\n",
        "  # print('recall is: ') + str(recall)\n",
        "  print()\n",
        "\n",
        "def draw_confusion_matrices(confusion_matricies):\n",
        "  class_names = ['Not', 'Churn']\n",
        "  for cm in confusion_matrices:\n",
        "    classifier, cm = cm[0], cm[1]\n",
        "    cal_evaluation(classifier, cm)\n",
        "    print (cm)"
      ],
      "execution_count": null,
      "outputs": []
    },
    {
      "cell_type": "code",
      "metadata": {
        "id": "a_R1bK39JhJN",
        "colab": {
          "base_uri": "https://localhost:8080/",
          "height": 323
        },
        "outputId": "8a5f4627-ae83-4d5a-bbab-9b16281601fe"
      },
      "source": [
        "confusion_matrices = [\n",
        "    ('Random Forest', confusion_matrix(y_test, best_RF_model.predict(X_test))),\n",
        "    ('Logistics Regression', confusion_matrix(y_test, best_LR_model.predict(X_test))),\n",
        "    ('K nearest neighbor', confusion_matrix(y_test, best_KNN_model.predict(X_test))),\n",
        "]\n",
        "draw_confusion_matrices(confusion_matrices)"
      ],
      "execution_count": null,
      "outputs": [
        {
          "output_type": "stream",
          "text": [
            "Random Forest\n",
            "Accuracy is: 0.8576\n",
            "precision is: 0.7741935483870968\n",
            "\n",
            "[[1928   63]\n",
            " [ 293  216]]\n",
            "Logistics Regression\n",
            "Accuracy is: 0.808\n",
            "precision is: 0.5857988165680473\n",
            "\n",
            "[[1921   70]\n",
            " [ 410   99]]\n",
            "K nearest neighbor\n",
            "Accuracy is: 0.8336\n",
            "precision is: 0.6837944664031621\n",
            "\n",
            "[[1911   80]\n",
            " [ 336  173]]\n"
          ],
          "name": "stdout"
        }
      ]
    },
    {
      "cell_type": "code",
      "metadata": {
        "id": "YCYgfsPRK0gb",
        "colab": {
          "base_uri": "https://localhost:8080/",
          "height": 136
        },
        "outputId": "12fd982d-4f2b-4625-e844-fee02d22af2a"
      },
      "source": [
        "from sklearn.metrics import roc_curve\n",
        "from sklearn import metrics\n",
        "\n",
        "y_pred_rf = best_RF_model.predict_proba(X_test)[:,1]\n",
        "fpr_rf, tpr_rf, thresh = roc_curve(y_test, y_pred_rf)\n",
        "\n",
        "best_RF_model.predict_proba(X_test)"
      ],
      "execution_count": null,
      "outputs": [
        {
          "output_type": "execute_result",
          "data": {
            "text/plain": [
              "array([[0.8       , 0.2       ],\n",
              "       [0.93333333, 0.06666667],\n",
              "       [0.76666667, 0.23333333],\n",
              "       ...,\n",
              "       [0.95      , 0.05      ],\n",
              "       [0.9       , 0.1       ],\n",
              "       [0.91666667, 0.08333333]])"
            ]
          },
          "metadata": {
            "tags": []
          },
          "execution_count": 40
        }
      ]
    },
    {
      "cell_type": "code",
      "metadata": {
        "id": "JsWRkjwuNVmK",
        "colab": {
          "base_uri": "https://localhost:8080/",
          "height": 295
        },
        "outputId": "e6f380c8-aed8-46b3-f9b6-c4ab8e9398cd"
      },
      "source": [
        "plt.figure(1)\n",
        "plt.plot([0,1],[0,1],'k--')\n",
        "plt.plot(fpr_rf, tpr_rf, label='RF')\n",
        "plt.xlabel('False Positive rate')\n",
        "plt.ylabel('True Positive rate')\n",
        "plt.title('ROC curve - RF model')\n",
        "plt.legend(loc = 'best')\n",
        "plt.show()"
      ],
      "execution_count": null,
      "outputs": [
        {
          "output_type": "display_data",
          "data": {
            "image/png": "[encoded data removed]",
            "text/plain": [
              "<Figure size 432x288 with 1 Axes>"
            ]
          },
          "metadata": {
            "tags": [],
            "needs_background": "light"
          }
        }
      ]
    },
    {
      "cell_type": "code",
      "metadata": {
        "id": "XkJHSVTh-llT",
        "colab": {
          "base_uri": "https://localhost:8080/",
          "height": 34
        },
        "outputId": "f82a7d7d-ba17-4ce5-d28d-3b1b025fc49a"
      },
      "source": [
        "metrics.auc(fpr_rf, tpr_rf)"
      ],
      "execution_count": null,
      "outputs": [
        {
          "output_type": "execute_result",
          "data": {
            "text/plain": [
              "0.8300199621282016"
            ]
          },
          "metadata": {
            "tags": []
          },
          "execution_count": 56
        }
      ]
    },
    {
      "cell_type": "code",
      "metadata": {
        "id": "Dp__msdnAAvo",
        "colab": {
          "base_uri": "https://localhost:8080/",
          "height": 1000
        },
        "outputId": "24c43424-c32f-4cd0-a063-31de443db14e"
      },
      "source": [
        "y_pred_lr = best_LR_model.predict_proba(X_test)[:,1]\n",
        "fpr_lr, tpr_lr, thresh = roc_curve(y_test, y_pred_lr)\n",
        "\n",
        "best_LR_model.predict_proba(X_test)\n",
        "# print(fpr_lr, tpr_lr)"
      ],
      "execution_count": null,
      "outputs": [
        {
          "output_type": "stream",
          "text": [
            "[0.         0.         0.00200904 0.00200904 0.0025113  0.0025113\n",
            " 0.00301356 0.00301356 0.00351582 0.00351582 0.00401808 0.00401808\n",
            " 0.0050226  0.0050226  0.00552486 0.00552486 0.00602712 0.00602712\n",
            " 0.00652938 0.00652938 0.0075339  0.0075339  0.00803616 0.00803616\n",
            " 0.00853842 0.00853842 0.00904068 0.00904068 0.00954294 0.00954294\n",
            " 0.01054746 0.01054746 0.01205424 0.01205424 0.01305876 0.01305876\n",
            " 0.01356102 0.01356102 0.01406328 0.01406328 0.01456554 0.01456554\n",
            " 0.01506781 0.01506781 0.01557007 0.01557007 0.01757911 0.01757911\n",
            " 0.01858363 0.01858363 0.01908589 0.01908589 0.01958815 0.01958815\n",
            " 0.02310397 0.02310397 0.02561527 0.02561527 0.02712205 0.02712205\n",
            " 0.02762431 0.02762431 0.02812657 0.02812657 0.02913109 0.02913109\n",
            " 0.02963335 0.02963335 0.03164239 0.03164239 0.03365143 0.03365143\n",
            " 0.03616273 0.03616273 0.03817177 0.03817177 0.03967855 0.03967855\n",
            " 0.04068307 0.04068307 0.04218985 0.04218985 0.04269211 0.04269211\n",
            " 0.04369663 0.04369663 0.0441989  0.0441989  0.0467102  0.0467102\n",
            " 0.04721246 0.04721246 0.04771472 0.04771472 0.04821698 0.04821698\n",
            " 0.04871924 0.04871924 0.04972376 0.04972376 0.05022602 0.05022602\n",
            " 0.05223506 0.05223506 0.05323958 0.05323958 0.05374184 0.05374184\n",
            " 0.05474636 0.05474636 0.05524862 0.05524862 0.05625314 0.05625314\n",
            " 0.0567554  0.0567554  0.05725766 0.05725766 0.05826218 0.05826218\n",
            " 0.05876444 0.05876444 0.06027122 0.06027122 0.061778   0.061778\n",
            " 0.06228026 0.06228026 0.06278252 0.06278252 0.06328478 0.06328478\n",
            " 0.07132094 0.07132094 0.0718232  0.0718232  0.07282772 0.07282772\n",
            " 0.07332998 0.07332998 0.07383225 0.07383225 0.07433451 0.07433451\n",
            " 0.07483677 0.07483677 0.07533903 0.07533903 0.07734807 0.07734807\n",
            " 0.07785033 0.07785033 0.07835259 0.07835259 0.07885485 0.07885485\n",
            " 0.07935711 0.07935711 0.07985937 0.07985937 0.08036163 0.08036163\n",
            " 0.08086389 0.08086389 0.08237067 0.08237067 0.08387745 0.08387745\n",
            " 0.08538423 0.08538423 0.08588649 0.08588649 0.08689101 0.08689101\n",
            " 0.08739327 0.08739327 0.08839779 0.08839779 0.08940231 0.08940231\n",
            " 0.09090909 0.09090909 0.09141135 0.09141135 0.09191361 0.09191361\n",
            " 0.09241587 0.09241587 0.09392265 0.09392265 0.09442491 0.09442491\n",
            " 0.09492717 0.09492717 0.09593169 0.09593169 0.09894525 0.09894525\n",
            " 0.09944751 0.09944751 0.10045203 0.10045203 0.10145655 0.10145655\n",
            " 0.10195881 0.10195881 0.10246107 0.10246107 0.1034656  0.1034656\n",
            " 0.10497238 0.10497238 0.10647916 0.10647916 0.1084882  0.1084882\n",
            " 0.10949272 0.10949272 0.1109995  0.1109995  0.11200402 0.11200402\n",
            " 0.11300854 0.11300854 0.1135108  0.1135108  0.11451532 0.11451532\n",
            " 0.11501758 0.11501758 0.1160221  0.1160221  0.11652436 0.11652436\n",
            " 0.11903566 0.11903566 0.12204922 0.12204922 0.12305374 0.12305374\n",
            " 0.12456052 0.12456052 0.12506278 0.12506278 0.12757408 0.12757408\n",
            " 0.12807634 0.12807634 0.12908086 0.12908086 0.12958312 0.12958312\n",
            " 0.13209442 0.13209442 0.13812155 0.13812155 0.13862381 0.13862381\n",
            " 0.14063285 0.14063285 0.14163737 0.14163737 0.14414867 0.14414867\n",
            " 0.14465093 0.14465093 0.14716223 0.14716223 0.14766449 0.14766449\n",
            " 0.14816675 0.14816675 0.14917127 0.14917127 0.15017579 0.15017579\n",
            " 0.15067805 0.15067805 0.15168257 0.15168257 0.15268709 0.15268709\n",
            " 0.15419387 0.15419387 0.15469613 0.15469613 0.15519839 0.15519839\n",
            " 0.15871421 0.15871421 0.16122551 0.16122551 0.16323456 0.16323456\n",
            " 0.16474134 0.16474134 0.16574586 0.16574586 0.16675038 0.16675038\n",
            " 0.16875942 0.16875942 0.16926168 0.16926168 0.1702662  0.1702662\n",
            " 0.17327976 0.17327976 0.17629332 0.17629332 0.17679558 0.17679558\n",
            " 0.1778001  0.1778001  0.17930688 0.17930688 0.1803114  0.1803114\n",
            " 0.18181818 0.18181818 0.18834756 0.18834756 0.19085886 0.19085886\n",
            " 0.19236565 0.19236565 0.19337017 0.19337017 0.19437469 0.19437469\n",
            " 0.19487695 0.19487695 0.19537921 0.19537921 0.19688599 0.19688599\n",
            " 0.20291311 0.20291311 0.21044701 0.21044701 0.21195379 0.21195379\n",
            " 0.21446509 0.21446509 0.21546961 0.21546961 0.21597187 0.21597187\n",
            " 0.21647413 0.21647413 0.21948769 0.21948769 0.22400804 0.22400804\n",
            " 0.22601708 0.22601708 0.22903064 0.22903064 0.23003516 0.23003516\n",
            " 0.23304872 0.23304872 0.23405324 0.23405324 0.23505776 0.23505776\n",
            " 0.23606228 0.23606228 0.23857358 0.23857358 0.24058262 0.24058262\n",
            " 0.24259166 0.24259166 0.24309392 0.24309392 0.24409844 0.24409844\n",
            " 0.24660974 0.24660974 0.24811652 0.24811652 0.25414365 0.25414365\n",
            " 0.26117529 0.26117529 0.26820693 0.26820693 0.26921145 0.26921145\n",
            " 0.27021597 0.27021597 0.27172275 0.27172275 0.27674535 0.27674535\n",
            " 0.28076344 0.28076344 0.283777   0.283777   0.28478152 0.28478152\n",
            " 0.28578604 0.28578604 0.28729282 0.28729282 0.29030638 0.29030638\n",
            " 0.29281768 0.29281768 0.29331994 0.29331994 0.29482672 0.29482672\n",
            " 0.29583124 0.29583124 0.30286288 0.30286288 0.30436966 0.30436966\n",
            " 0.3063787  0.3063787  0.30838774 0.30838774 0.31089905 0.31089905\n",
            " 0.31290809 0.31290809 0.31642391 0.31642391 0.32898041 0.32898041\n",
            " 0.33199397 0.33199397 0.33400301 0.33400301 0.33751883 0.33751883\n",
            " 0.33802109 0.33802109 0.33952788 0.33952788 0.34605726 0.34605726\n",
            " 0.34655952 0.34655952 0.34706178 0.34706178 0.34756404 0.34756404\n",
            " 0.35158212 0.35158212 0.35208438 0.35208438 0.3530889  0.3530889\n",
            " 0.35660472 0.35660472 0.35861376 0.35861376 0.35911602 0.35911602\n",
            " 0.3631341  0.3631341  0.36413862 0.36413862 0.3656454  0.3656454\n",
            " 0.36614766 0.36614766 0.36715218 0.36715218 0.37217479 0.37217479\n",
            " 0.37317931 0.37317931 0.37619287 0.37619287 0.37820191 0.37820191\n",
            " 0.37870417 0.37870417 0.38021095 0.38021095 0.38322451 0.38322451\n",
            " 0.38372677 0.38372677 0.38975389 0.38975389 0.39779006 0.39779006\n",
            " 0.40934204 0.40934204 0.41336012 0.41336012 0.4173782  0.4173782\n",
            " 0.42591662 0.42591662 0.42641888 0.42641888 0.42993471 0.42993471\n",
            " 0.43093923 0.43093923 0.43596183 0.43596183 0.43696635 0.43696635\n",
            " 0.44801607 0.44801607 0.4615771  0.4615771  0.46308388 0.46308388\n",
            " 0.47815168 0.47815168 0.47865394 0.47865394 0.48016072 0.48016072\n",
            " 0.48066298 0.48066298 0.48317428 0.48317428 0.48920141 0.48920141\n",
            " 0.49271723 0.49271723 0.50426921 0.50426921 0.50577599 0.50577599\n",
            " 0.50728277 0.50728277 0.50828729 0.50828729 0.51330989 0.51330989\n",
            " 0.51481668 0.51481668 0.52184832 0.52184832 0.5233551  0.5233551\n",
            " 0.52737318 0.52737318 0.53490708 0.53490708 0.53540934 0.53540934\n",
            " 0.5359116  0.5359116  0.5384229  0.5384229  0.53892516 0.53892516\n",
            " 0.54796585 0.54796585 0.54947263 0.54947263 0.55148167 0.55148167\n",
            " 0.55399297 0.55399297 0.55851331 0.55851331 0.56052235 0.56052235\n",
            " 0.5750879  0.5750879  0.57960824 0.57960824 0.58111502 0.58111502\n",
            " 0.58161728 0.58161728 0.5851331  0.5851331  0.59568056 0.59568056\n",
            " 0.59618282 0.59618282 0.60170768 0.60170768 0.60924159 0.60924159\n",
            " 0.61024611 0.61024611 0.654445   0.654445   0.6594676  0.6594676\n",
            " 0.66649925 0.66649925 0.66850829 0.66850829 0.67855349 0.67855349\n",
            " 0.69110999 0.69110999 0.69261678 0.69261678 0.6936213  0.6936213\n",
            " 0.70165746 0.70165746 0.71069814 0.71069814 0.71170266 0.71170266\n",
            " 0.71823204 0.71823204 0.72526369 0.72526369 0.73078855 0.73078855\n",
            " 0.7654445  0.7654445  0.77850326 0.77850326 0.78051231 0.78051231\n",
            " 0.78503265 0.78503265 0.78653943 0.78653943 0.78955299 0.78955299\n",
            " 0.79005525 0.79005525 0.79507785 0.79507785 0.79809141 0.79809141\n",
            " 0.80110497 0.80110497 0.80662983 0.80662983 0.80914114 0.80914114\n",
            " 0.82571572 0.82571572 0.83023606 0.83023606 0.83073832 0.83073832\n",
            " 0.8347564  0.8347564  0.83525866 0.83525866 0.84480161 0.84480161\n",
            " 0.84731291 0.84731291 0.87292818 0.87292818 0.88297338 0.88297338\n",
            " 0.88598694 0.88598694 0.90457057 0.90457057 0.91461577 0.91461577\n",
            " 0.93219488 0.93219488 0.98543446 0.98543446 0.99799096 0.99799096\n",
            " 1.         1.        ] [0.         0.00196464 0.00196464 0.00392927 0.00392927 0.01964637\n",
            " 0.01964637 0.02750491 0.02750491 0.06679764 0.06679764 0.07072692\n",
            " 0.07072692 0.07269155 0.07269155 0.07465619 0.07465619 0.08644401\n",
            " 0.08644401 0.08840864 0.08840864 0.09037328 0.09037328 0.09233792\n",
            " 0.09233792 0.10019646 0.10019646 0.10412574 0.10412574 0.10609037\n",
            " 0.10609037 0.10805501 0.10805501 0.11787819 0.11787819 0.11984283\n",
            " 0.11984283 0.12180747 0.12180747 0.12770138 0.12770138 0.13163065\n",
            " 0.13163065 0.13359528 0.13359528 0.14734774 0.14734774 0.15717092\n",
            " 0.15717092 0.15913556 0.15913556 0.16502947 0.16502947 0.16895874\n",
            " 0.16895874 0.17288802 0.17288802 0.17681729 0.17681729 0.18074656\n",
            " 0.18074656 0.1827112  0.1827112  0.18664047 0.18664047 0.18860511\n",
            " 0.18860511 0.19056974 0.19056974 0.19253438 0.19253438 0.19449902\n",
            " 0.19449902 0.20235756 0.20235756 0.2043222  0.2043222  0.20628684\n",
            " 0.20628684 0.21218075 0.21218075 0.21611002 0.21611002 0.21807466\n",
            " 0.21807466 0.22396857 0.22396857 0.22789784 0.22789784 0.22986248\n",
            " 0.22986248 0.23182711 0.23182711 0.23379175 0.23379175 0.23575639\n",
            " 0.23575639 0.23772102 0.23772102 0.24361493 0.24361493 0.25147348\n",
            " 0.25147348 0.25343811 0.25343811 0.25736739 0.25736739 0.26129666\n",
            " 0.26129666 0.2632613  0.2632613  0.26522593 0.26522593 0.26719057\n",
            " 0.26719057 0.27504912 0.27504912 0.27701375 0.27701375 0.2848723\n",
            " 0.2848723  0.28880157 0.28880157 0.29076621 0.29076621 0.29469548\n",
            " 0.29469548 0.29666012 0.29666012 0.29862475 0.29862475 0.30058939\n",
            " 0.30058939 0.30255403 0.30255403 0.31041257 0.31041257 0.31827112\n",
            " 0.31827112 0.32023576 0.32023576 0.32416503 0.32416503 0.32612967\n",
            " 0.32612967 0.33202358 0.33202358 0.33398821 0.33398821 0.33595285\n",
            " 0.33595285 0.33791749 0.33791749 0.33988212 0.33988212 0.34184676\n",
            " 0.34184676 0.34774067 0.34774067 0.3497053  0.3497053  0.35166994\n",
            " 0.35166994 0.35559921 0.35559921 0.36345776 0.36345776 0.3654224\n",
            " 0.3654224  0.36738703 0.36738703 0.37328094 0.37328094 0.37524558\n",
            " 0.37524558 0.37917485 0.37917485 0.3870334  0.3870334  0.38899804\n",
            " 0.38899804 0.39292731 0.39292731 0.39489194 0.39489194 0.39882122\n",
            " 0.39882122 0.40078585 0.40078585 0.40275049 0.40275049 0.40471513\n",
            " 0.40471513 0.41060904 0.41060904 0.41257367 0.41257367 0.41453831\n",
            " 0.41453831 0.41846758 0.41846758 0.42239686 0.42239686 0.42829077\n",
            " 0.42829077 0.4302554  0.4302554  0.44400786 0.44400786 0.4459725\n",
            " 0.4459725  0.44990177 0.44990177 0.45383104 0.45383104 0.45579568\n",
            " 0.45579568 0.45776031 0.45776031 0.45972495 0.45972495 0.46168959\n",
            " 0.46168959 0.46365422 0.46365422 0.46561886 0.46561886 0.4675835\n",
            " 0.4675835  0.46954813 0.46954813 0.47151277 0.47151277 0.47347741\n",
            " 0.47347741 0.47740668 0.47740668 0.47937132 0.47937132 0.48526523\n",
            " 0.48526523 0.48722986 0.48722986 0.4891945  0.4891945  0.49312377\n",
            " 0.49312377 0.49508841 0.49508841 0.49705305 0.49705305 0.49901768\n",
            " 0.49901768 0.50098232 0.50098232 0.50294695 0.50294695 0.50491159\n",
            " 0.50491159 0.50884086 0.50884086 0.51277014 0.51277014 0.51473477\n",
            " 0.51473477 0.51669941 0.51669941 0.52062868 0.52062868 0.52259332\n",
            " 0.52259332 0.52455796 0.52455796 0.52652259 0.52652259 0.52848723\n",
            " 0.52848723 0.53045187 0.53045187 0.5324165  0.5324165  0.53438114\n",
            " 0.53438114 0.53831041 0.53831041 0.54027505 0.54027505 0.54223969\n",
            " 0.54223969 0.54616896 0.54616896 0.5481336  0.5481336  0.55009823\n",
            " 0.55009823 0.55206287 0.55206287 0.5540275  0.5540275  0.55599214\n",
            " 0.55599214 0.55795678 0.55795678 0.55992141 0.55992141 0.56188605\n",
            " 0.56188605 0.56385069 0.56385069 0.56777996 0.56777996 0.57563851\n",
            " 0.57563851 0.57760314 0.57760314 0.58153242 0.58153242 0.58349705\n",
            " 0.58349705 0.58742633 0.58742633 0.58939096 0.58939096 0.5913556\n",
            " 0.5913556  0.59332024 0.59332024 0.59528487 0.59528487 0.59724951\n",
            " 0.59724951 0.60510806 0.60510806 0.60707269 0.60707269 0.60903733\n",
            " 0.60903733 0.61100196 0.61100196 0.61493124 0.61493124 0.61689587\n",
            " 0.61689587 0.62082515 0.62082515 0.62278978 0.62278978 0.62671906\n",
            " 0.62671906 0.62868369 0.62868369 0.63261297 0.63261297 0.6345776\n",
            " 0.6345776  0.63654224 0.63654224 0.63850688 0.63850688 0.64047151\n",
            " 0.64047151 0.64243615 0.64243615 0.64636542 0.64636542 0.64833006\n",
            " 0.64833006 0.6502947  0.6502947  0.65225933 0.65225933 0.65422397\n",
            " 0.65422397 0.65618861 0.65618861 0.66011788 0.66011788 0.66208251\n",
            " 0.66208251 0.66404715 0.66404715 0.66797642 0.66797642 0.67387033\n",
            " 0.67387033 0.67583497 0.67583497 0.67779961 0.67779961 0.67976424\n",
            " 0.67976424 0.68172888 0.68172888 0.68369352 0.68369352 0.68565815\n",
            " 0.68565815 0.68762279 0.68762279 0.68958743 0.68958743 0.69155206\n",
            " 0.69155206 0.6935167  0.6935167  0.69548134 0.69548134 0.69744597\n",
            " 0.69744597 0.70530452 0.70530452 0.70726916 0.70726916 0.70923379\n",
            " 0.70923379 0.71119843 0.71119843 0.71316306 0.71316306 0.7151277\n",
            " 0.7151277  0.71709234 0.71709234 0.71905697 0.71905697 0.72102161\n",
            " 0.72102161 0.72298625 0.72298625 0.72888016 0.72888016 0.73280943\n",
            " 0.73280943 0.7367387  0.7367387  0.73870334 0.73870334 0.74066798\n",
            " 0.74066798 0.74263261 0.74263261 0.74459725 0.74459725 0.74656189\n",
            " 0.74656189 0.74852652 0.74852652 0.75049116 0.75049116 0.7524558\n",
            " 0.7524558  0.75442043 0.75442043 0.75638507 0.75638507 0.75834971\n",
            " 0.75834971 0.76031434 0.76031434 0.76227898 0.76227898 0.76424361\n",
            " 0.76424361 0.77013752 0.77013752 0.77603143 0.77603143 0.77996071\n",
            " 0.77996071 0.78388998 0.78388998 0.78585462 0.78585462 0.78781925\n",
            " 0.78781925 0.78978389 0.78978389 0.79174853 0.79174853 0.79371316\n",
            " 0.79371316 0.7956778  0.7956778  0.79764244 0.79764244 0.80157171\n",
            " 0.80157171 0.80353635 0.80353635 0.80746562 0.80746562 0.80943026\n",
            " 0.80943026 0.81139489 0.81139489 0.81335953 0.81335953 0.81532417\n",
            " 0.81532417 0.8172888  0.8172888  0.81925344 0.81925344 0.82121807\n",
            " 0.82121807 0.82318271 0.82318271 0.82514735 0.82514735 0.82711198\n",
            " 0.82711198 0.82907662 0.82907662 0.83104126 0.83104126 0.83300589\n",
            " 0.83300589 0.83497053 0.83497053 0.83693517 0.83693517 0.8388998\n",
            " 0.8388998  0.84086444 0.84086444 0.84282908 0.84282908 0.84479371\n",
            " 0.84479371 0.84675835 0.84675835 0.84872299 0.84872299 0.85068762\n",
            " 0.85068762 0.85265226 0.85265226 0.8546169  0.8546169  0.85658153\n",
            " 0.85658153 0.85854617 0.85854617 0.86051081 0.86051081 0.86247544\n",
            " 0.86247544 0.86640472 0.86640472 0.86836935 0.86836935 0.87033399\n",
            " 0.87033399 0.87229862 0.87229862 0.8762279  0.8762279  0.87819253\n",
            " 0.87819253 0.88015717 0.88015717 0.88212181 0.88212181 0.88408644\n",
            " 0.88408644 0.88605108 0.88605108 0.88801572 0.88801572 0.88998035\n",
            " 0.88998035 0.89194499 0.89194499 0.89390963 0.89390963 0.89587426\n",
            " 0.89587426 0.8978389  0.8978389  0.89980354 0.89980354 0.90176817\n",
            " 0.90176817 0.90373281 0.90373281 0.90569745 0.90569745 0.90766208\n",
            " 0.90766208 0.90962672 0.90962672 0.91355599 0.91355599 0.91552063\n",
            " 0.91552063 0.91748527 0.91748527 0.9194499  0.9194499  0.92141454\n",
            " 0.92141454 0.92337917 0.92337917 0.92534381 0.92534381 0.92730845\n",
            " 0.92730845 0.92927308 0.92927308 0.93123772 0.93123772 0.93320236\n",
            " 0.93320236 0.93516699 0.93516699 0.93713163 0.93713163 0.9410609\n",
            " 0.9410609  0.94302554 0.94302554 0.94499018 0.94499018 0.94695481\n",
            " 0.94695481 0.94891945 0.94891945 0.95088409 0.95088409 0.95481336\n",
            " 0.95481336 0.956778   0.956778   0.95874263 0.95874263 0.96070727\n",
            " 0.96070727 0.96267191 0.96267191 0.96463654 0.96463654 0.96660118\n",
            " 0.96660118 0.96856582 0.96856582 0.97053045 0.97053045 0.97249509\n",
            " 0.97249509 0.97445972 0.97445972 0.97642436 0.97642436 0.98035363\n",
            " 0.98035363 0.98231827 0.98231827 0.98428291 0.98428291 0.98624754\n",
            " 0.98624754 0.98821218 0.98821218 0.99017682 0.99017682 0.99214145\n",
            " 0.99214145 0.99410609 0.99410609 0.99607073 0.99607073 0.99803536\n",
            " 0.99803536 1.        ]\n"
          ],
          "name": "stdout"
        }
      ]
    },
    {
      "cell_type": "code",
      "metadata": {
        "id": "tpDrG7h1Aciu",
        "colab": {
          "base_uri": "https://localhost:8080/",
          "height": 295
        },
        "outputId": "709fa81d-6c4b-4497-dc48-cd64fae942ec"
      },
      "source": [
        "plt.figure(1)\n",
        "plt.plot([0,1],[0,1],'k--')\n",
        "plt.plot(fpr_lr, tpr_lr, label='LR')\n",
        "plt.xlabel('False Positive rate')\n",
        "plt.ylabel('True Positive rate')\n",
        "plt.title('ROC curve - LR model')\n",
        "plt.legend(loc = 'best')\n",
        "plt.show()"
      ],
      "execution_count": null,
      "outputs": [
        {
          "output_type": "display_data",
          "data": {
            "image/png": "[encoded data removed]",
            "text/plain": [
              "<Figure size 432x288 with 1 Axes>"
            ]
          },
          "metadata": {
            "tags": [],
            "needs_background": "light"
          }
        }
      ]
    },
    {
      "cell_type": "code",
      "metadata": {
        "id": "WpskXHD3AlF0",
        "colab": {
          "base_uri": "https://localhost:8080/",
          "height": 34
        },
        "outputId": "1ba36747-4a17-4e07-9f0d-4644d51677e4"
      },
      "source": [
        "metrics.auc(fpr_lr, tpr_lr)"
      ],
      "execution_count": null,
      "outputs": [
        {
          "output_type": "execute_result",
          "data": {
            "text/plain": [
              "0.7722314264879581"
            ]
          },
          "metadata": {
            "tags": []
          },
          "execution_count": 60
        }
      ]
    },
    {
      "cell_type": "code",
      "metadata": {
        "id": "OyjDQcKnA4VL",
        "colab": {
          "base_uri": "https://localhost:8080/",
          "height": 204
        },
        "outputId": "6bb4e791-fb68-4bd0-a39b-637dddd1a7fc"
      },
      "source": [
        "X_with_corr = X.copy()\n",
        "# X_with_corr['salaryinRMB'] = X['EstimatedSalary']*6.91\n",
        "X_with_corr.head()"
      ],
      "execution_count": null,
      "outputs": [
        {
          "output_type": "execute_result",
          "data": {
            "text/html": [
              "<div>\n",
              "<style scoped>\n",
              "    .dataframe tbody tr th:only-of-type {\n",
              "        vertical-align: middle;\n",
              "    }\n",
              "\n",
              "    .dataframe tbody tr th {\n",
              "        vertical-align: top;\n",
              "    }\n",
              "\n",
              "    .dataframe thead th {\n",
              "        text-align: right;\n",
              "    }\n",
              "</style>\n",
              "<table border=\"1\" class=\"dataframe\">\n",
              "  <thead>\n",
              "    <tr style=\"text-align: right;\">\n",
              "      <th></th>\n",
              "      <th>CreditScore</th>\n",
              "      <th>Gender</th>\n",
              "      <th>Age</th>\n",
              "      <th>Tenure</th>\n",
              "      <th>Balance</th>\n",
              "      <th>NumOfProducts</th>\n",
              "      <th>HasCrCard</th>\n",
              "      <th>IsActiveMember</th>\n",
              "      <th>EstimatedSalary</th>\n",
              "      <th>Geography_France</th>\n",
              "      <th>Geography_Germany</th>\n",
              "      <th>Geography_Spain</th>\n",
              "    </tr>\n",
              "  </thead>\n",
              "  <tbody>\n",
              "    <tr>\n",
              "      <th>0</th>\n",
              "      <td>619</td>\n",
              "      <td>True</td>\n",
              "      <td>42</td>\n",
              "      <td>2</td>\n",
              "      <td>0.00</td>\n",
              "      <td>1</td>\n",
              "      <td>1</td>\n",
              "      <td>1</td>\n",
              "      <td>101348.88</td>\n",
              "      <td>1</td>\n",
              "      <td>0</td>\n",
              "      <td>0</td>\n",
              "    </tr>\n",
              "    <tr>\n",
              "      <th>1</th>\n",
              "      <td>608</td>\n",
              "      <td>True</td>\n",
              "      <td>41</td>\n",
              "      <td>1</td>\n",
              "      <td>83807.86</td>\n",
              "      <td>1</td>\n",
              "      <td>0</td>\n",
              "      <td>1</td>\n",
              "      <td>112542.58</td>\n",
              "      <td>0</td>\n",
              "      <td>0</td>\n",
              "      <td>1</td>\n",
              "    </tr>\n",
              "    <tr>\n",
              "      <th>2</th>\n",
              "      <td>502</td>\n",
              "      <td>True</td>\n",
              "      <td>42</td>\n",
              "      <td>8</td>\n",
              "      <td>159660.80</td>\n",
              "      <td>3</td>\n",
              "      <td>1</td>\n",
              "      <td>0</td>\n",
              "      <td>113931.57</td>\n",
              "      <td>1</td>\n",
              "      <td>0</td>\n",
              "      <td>0</td>\n",
              "    </tr>\n",
              "    <tr>\n",
              "      <th>3</th>\n",
              "      <td>699</td>\n",
              "      <td>True</td>\n",
              "      <td>39</td>\n",
              "      <td>1</td>\n",
              "      <td>0.00</td>\n",
              "      <td>2</td>\n",
              "      <td>0</td>\n",
              "      <td>0</td>\n",
              "      <td>93826.63</td>\n",
              "      <td>1</td>\n",
              "      <td>0</td>\n",
              "      <td>0</td>\n",
              "    </tr>\n",
              "    <tr>\n",
              "      <th>4</th>\n",
              "      <td>850</td>\n",
              "      <td>True</td>\n",
              "      <td>43</td>\n",
              "      <td>2</td>\n",
              "      <td>125510.82</td>\n",
              "      <td>1</td>\n",
              "      <td>1</td>\n",
              "      <td>1</td>\n",
              "      <td>79084.10</td>\n",
              "      <td>0</td>\n",
              "      <td>0</td>\n",
              "      <td>1</td>\n",
              "    </tr>\n",
              "  </tbody>\n",
              "</table>\n",
              "</div>"
            ],
            "text/plain": [
              "   CreditScore  Gender  ...  Geography_Germany  Geography_Spain\n",
              "0          619    True  ...                  0                0\n",
              "1          608    True  ...                  0                1\n",
              "2          502    True  ...                  0                0\n",
              "3          699    True  ...                  0                0\n",
              "4          850    True  ...                  0                1\n",
              "\n",
              "[5 rows x 12 columns]"
            ]
          },
          "metadata": {
            "tags": []
          },
          "execution_count": 64
        }
      ]
    },
    {
      "cell_type": "code",
      "metadata": {
        "id": "jd5ti_4sB2zL",
        "colab": {
          "base_uri": "https://localhost:8080/",
          "height": 255
        },
        "outputId": "9bdea017-deb1-4aaa-b28f-187aef2ba056"
      },
      "source": [
        "scaler = StandardScaler()\n",
        "X_l1 = scaler.fit_transform(X_with_corr)\n",
        "LRmodel_l1 = LogisticRegression(penalty='l1', C=0.1, solver='liblinear')\n",
        "LRmodel_l1.fit(X_l1, y)\n",
        "\n",
        "indices = np.argsort(abs(LRmodel_l1.coef_[0]))[::-1]\n",
        "\n",
        "print('Logistics Regression (L1) Coefficients')\n",
        "print(X_with_corr.shape)\n",
        "for ind in range(X_with_corr.shape[1]):\n",
        "  print(\"{0}:{1}\".format(X_with_corr.columns[indices[ind]], round(LRmodel_l1.coef_[0][indices[ind]], 4)))"
      ],
      "execution_count": null,
      "outputs": [
        {
          "output_type": "stream",
          "text": [
            "Logistics Regression (L1) Coefficients\n",
            "(10000, 12)\n",
            "Age:0.7495\n",
            "IsActiveMember:-0.524\n",
            "Geography_Germany:0.3171\n",
            "Gender:0.2541\n",
            "Balance:0.159\n",
            "CreditScore:-0.0569\n",
            "NumOfProducts:-0.0529\n",
            "Tenure:-0.0384\n",
            "EstimatedSalary:0.0202\n",
            "HasCrCard:-0.013\n",
            "Geography_France:-0.0122\n",
            "Geography_Spain:0.0\n"
          ],
          "name": "stdout"
        }
      ]
    },
    {
      "cell_type": "code",
      "metadata": {
        "id": "m_ZO6D67E6CF",
        "colab": {
          "base_uri": "https://localhost:8080/",
          "height": 238
        },
        "outputId": "f3493537-78ed-47ae-fa8e-deb86be499bd"
      },
      "source": [
        "scaler = StandardScaler()\n",
        "X_l2 = scaler.fit_transform(X_with_corr)\n",
        "LRmodel_l2 = LogisticRegression(penalty='l2', C=0.1, solver='liblinear')\n",
        "LRmodel_l2.fit(X_l2, y)\n",
        "\n",
        "indices = np.argsort(abs(LRmodel_l2.coef_[0]))[::-1]\n",
        "\n",
        "print('Logistics Regression (L2) Coefficients')\n",
        "for ind in range(X_with_corr.shape[1]):\n",
        "  print(\"{0}:{1}\".format(X_with_corr.columns[indices[ind]], round(LRmodel_l2.coef_[0][indices[ind]], 4)))"
      ],
      "execution_count": null,
      "outputs": [
        {
          "output_type": "stream",
          "text": [
            "Logistics Regression (L2) Coefficients\n",
            "Age:0.751\n",
            "IsActiveMember:-0.5272\n",
            "Gender:0.2591\n",
            "Geography_Germany:0.2279\n",
            "Balance:0.162\n",
            "Geography_France:-0.1207\n",
            "Geography_Spain:-0.089\n",
            "CreditScore:-0.0637\n",
            "NumOfProducts:-0.0586\n",
            "Tenure:-0.0452\n",
            "EstimatedSalary:0.0272\n",
            "HasCrCard:-0.0199\n"
          ],
          "name": "stdout"
        }
      ]
    },
    {
      "cell_type": "code",
      "metadata": {
        "id": "ysGNwMJiGant",
        "colab": {
          "base_uri": "https://localhost:8080/",
          "height": 238
        },
        "outputId": "1ff6d6ed-159e-4045-ea17-bdce8176e9bd"
      },
      "source": [
        "forest = RandomForestClassifier()\n",
        "forest.fit(X, y)\n",
        "\n",
        "importances = forest.feature_importances_\n",
        "indices = np.argsort(importances)[::-1]\n",
        "\n",
        "print('Feature importance ranking by Random Forest Model:')\n",
        "for ind in range(X_with_corr.shape[1]):\n",
        "  print(\"{0}:{1}\".format(X_with_corr.columns[indices[ind]], round(importances[indices[ind]], 4)))"
      ],
      "execution_count": null,
      "outputs": [
        {
          "output_type": "stream",
          "text": [
            "Feature importance ranking by Random Forest Model:\n",
            "Age:0.2381\n",
            "EstimatedSalary:0.1463\n",
            "CreditScore:0.1449\n",
            "Balance:0.1414\n",
            "NumOfProducts:0.1291\n",
            "Tenure:0.0809\n",
            "IsActiveMember:0.0417\n",
            "Geography_Germany:0.022\n",
            "Gender:0.0186\n",
            "HasCrCard:0.0179\n",
            "Geography_France:0.0101\n",
            "Geography_Spain:0.009\n"
          ],
          "name": "stdout"
        }
      ]
    },
    {
      "cell_type": "code",
      "metadata": {
        "id": "6tKYUcayHsNT"
      },
      "source": [
        ""
      ],
      "execution_count": null,
      "outputs": []
    }
  ]
}